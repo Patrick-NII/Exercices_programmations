{
 "cells": [
  {
   "cell_type": "markdown",
   "id": "67dc1792",
   "metadata": {},
   "source": [
    "\n",
    "# Test d'évaluation en Algorithmie\n",
    "\n",
    "Ce test est conçu pour évaluer vos compétences en algorithmie à travers 20 exercices progressifs, couvrant les bases jusqu'à des concepts avancés. \n",
    "Chaque section se concentre sur un domaine spécifique : logique de base, structures de données, récursivité, optimisation, et analyse de complexité.\n",
    "\n",
    "### Consignes :\n",
    "1. Complétez chaque exercice dans l'ordre. \n",
    "2. Testez vos fonctions avec des exemples donnés.\n",
    "3. Passez à la section suivante une fois les tests validés.\n",
    "\n",
    "**Objectif** : Identifier vos forces et vos axes d'amélioration pour guider votre apprentissage. Bonne chance ! 🚀\n"
   ]
  },
  {
   "cell_type": "markdown",
   "id": "98b27ae9",
   "metadata": {},
   "source": [
    "## Logique de base"
   ]
  },
  {
   "cell_type": "markdown",
   "id": "7a4f6947",
   "metadata": {},
   "source": [
    "\n",
    "### Exercice 1 : Nombre pair ou impair\n",
    "Écrivez une fonction `is_even` qui retourne `True` si un nombre est pair, `False` sinon.\n",
    "#### Exemple :\n",
    "```python\n",
    "is_even(4)  # True\n",
    "is_even(7)  # False\n",
    "```\n"
   ]
  },
  {
   "cell_type": "code",
   "execution_count": 3,
   "id": "1ba174e5",
   "metadata": {},
   "outputs": [
    {
     "data": {
      "text/plain": [
       "False"
      ]
     },
     "execution_count": 3,
     "metadata": {},
     "output_type": "execute_result"
    }
   ],
   "source": [
    "# Votre code ici pour Nombre pair ou impair :\n",
    "def your_function(x):\n",
    "    return x % 2 == 0\n",
    "your_function(3)"
   ]
  },
  {
   "cell_type": "markdown",
   "id": "dcc9b29e",
   "metadata": {},
   "source": [
    "\n",
    "### Exercice 2 : Somme des nombres\n",
    "Écrivez une fonction `sum_up_to` qui calcule la somme des entiers de 1 à `n` inclus.\n",
    "#### Exemple :\n",
    "```python\n",
    "sum_up_to(5)  # 1 + 2 + 3 + 4 + 5 = 15\n",
    "```\n"
   ]
  },
  {
   "cell_type": "code",
   "execution_count": 4,
   "id": "3f576fbe",
   "metadata": {},
   "outputs": [
    {
     "data": {
      "text/plain": [
       "15"
      ]
     },
     "execution_count": 4,
     "metadata": {},
     "output_type": "execute_result"
    }
   ],
   "source": [
    "# Votre code ici pour Somme des nombres :\n",
    "def your_function(nb):\n",
    "    return sum(range(nb+1))\n",
    "your_function(5)"
   ]
  },
  {
   "cell_type": "markdown",
   "id": "ebeb808f",
   "metadata": {},
   "source": [
    "## Manipulation des structures de données"
   ]
  },
  {
   "cell_type": "markdown",
   "id": "b645910b",
   "metadata": {},
   "source": [
    "\n",
    "### Exercice 3 : Trouver le maximum\n",
    "Écrivez une fonction `find_max` qui retourne le plus grand élément d'une liste.\n",
    "#### Exemple :\n",
    "```python\n",
    "find_max([3, 1, 4, 1, 5])  # 5\n",
    "```\n"
   ]
  },
  {
   "cell_type": "code",
   "execution_count": null,
   "id": "28f5a64d",
   "metadata": {},
   "outputs": [],
   "source": [
    "# Votre code ici pour Trouver le maximum :\n",
    "def your_function():\n",
    "    pass"
   ]
  },
  {
   "cell_type": "markdown",
   "id": "5dfa0e0b",
   "metadata": {},
   "source": [
    "\n",
    "### Exercice 4 : Compter les occurrences\n",
    "Écrivez une fonction `count_occurrences` qui retourne le nombre de fois qu'un élément apparaît dans une liste.\n",
    "#### Exemple :\n",
    "```python\n",
    "count_occurrences([1, 2, 2, 3, 2], 2)  # 3\n",
    "```\n"
   ]
  },
  {
   "cell_type": "code",
   "execution_count": null,
   "id": "0a63b86f",
   "metadata": {},
   "outputs": [],
   "source": [
    "# Votre code ici pour Compter les occurrences :\n",
    "def your_function():\n",
    "    pass"
   ]
  },
  {
   "cell_type": "markdown",
   "id": "dfcc0846",
   "metadata": {},
   "source": [
    "## Récursivité"
   ]
  },
  {
   "cell_type": "markdown",
   "id": "c7a60ad0",
   "metadata": {},
   "source": [
    "\n",
    "### Exercice 5 : Factorielle\n",
    "Écrivez une fonction récursive `factorial` pour calculer la factorielle d'un nombre.\n",
    "#### Exemple :\n",
    "```python\n",
    "factorial(5)  # 120\n",
    "```\n"
   ]
  },
  {
   "cell_type": "code",
   "execution_count": null,
   "id": "b0ea4b38",
   "metadata": {},
   "outputs": [],
   "source": [
    "# Votre code ici pour Factorielle :\n",
    "def your_function():\n",
    "    pass"
   ]
  },
  {
   "cell_type": "markdown",
   "id": "213c3c78",
   "metadata": {},
   "source": [
    "\n",
    "### Exercice 6 : Fibonacci\n",
    "Écrivez une fonction récursive `fibonacci` pour calculer le `n`-ième nombre de Fibonacci.\n",
    "#### Exemple :\n",
    "```python\n",
    "fibonacci(6)  # 8 (suite : 0, 1, 1, 2, 3, 5, 8)\n",
    "```\n"
   ]
  },
  {
   "cell_type": "code",
   "execution_count": null,
   "id": "865f8bee",
   "metadata": {},
   "outputs": [],
   "source": [
    "# Votre code ici pour Fibonacci :\n",
    "def your_function():\n",
    "    pass"
   ]
  },
  {
   "cell_type": "markdown",
   "id": "59dce227",
   "metadata": {},
   "source": [
    "## Optimisation et algorithmes avancés"
   ]
  },
  {
   "cell_type": "markdown",
   "id": "468beac1",
   "metadata": {},
   "source": [
    "\n",
    "### Exercice 7 : Recherche binaire\n",
    "Implémentez une fonction `binary_search` qui trouve la position d'un élément dans une liste triée.\n",
    "#### Exemple :\n",
    "```python\n",
    "binary_search([1, 3, 5, 7, 9], 5)  # 2\n",
    "```\n"
   ]
  },
  {
   "cell_type": "code",
   "execution_count": null,
   "id": "e424c174",
   "metadata": {},
   "outputs": [],
   "source": [
    "# Votre code ici pour Recherche binaire :\n",
    "def your_function():\n",
    "    pass"
   ]
  },
  {
   "cell_type": "markdown",
   "id": "0ff9be76",
   "metadata": {},
   "source": [
    "\n",
    "### Exercice 8 : Tri par sélection\n",
    "Implémentez un algorithme de tri par sélection pour trier une liste d'entiers.\n",
    "#### Exemple :\n",
    "```python\n",
    "selection_sort([3, 1, 4, 1, 5])  # [1, 1, 3, 4, 5]\n",
    "```\n"
   ]
  },
  {
   "cell_type": "code",
   "execution_count": null,
   "id": "5592fb65",
   "metadata": {},
   "outputs": [],
   "source": [
    "# Votre code ici pour Tri par sélection :\n",
    "def your_function():\n",
    "    pass"
   ]
  },
  {
   "cell_type": "markdown",
   "id": "cf038f14",
   "metadata": {},
   "source": [
    "## Analyse de complexité"
   ]
  },
  {
   "cell_type": "markdown",
   "id": "98647e7e",
   "metadata": {},
   "source": [
    "\n",
    "### Exercice 9 : Analyse d'un algorithme\n",
    "Donnez la complexité temporelle des fonctions suivantes (en utilisant la notation Big-O).\n",
    "\n",
    "1. Une boucle qui parcourt un tableau de taille `n` :\n",
    "```python\n",
    "for i in range(len(arr)):\n",
    "    print(arr[i])\n",
    "```\n",
    "2. Une double boucle imbriquée :\n",
    "```python\n",
    "for i in range(len(arr)):\n",
    "    for j in range(len(arr)):\n",
    "        print(arr[i], arr[j])\n",
    "```\n"
   ]
  },
  {
   "cell_type": "code",
   "execution_count": null,
   "id": "48458db2",
   "metadata": {},
   "outputs": [],
   "source": [
    "# Votre code ici pour Analyse d'un algorithme :\n",
    "def your_function():\n",
    "    pass"
   ]
  },
  {
   "cell_type": "markdown",
   "id": "088d9402",
   "metadata": {},
   "source": [
    "\n",
    "### Exercice 10 : Optimiser une solution\n",
    "Une fonction `sum_of_squares` calcule la somme des carrés des nombres de 1 à `n`. \n",
    "Réécrivez-la pour qu'elle utilise une formule mathématique directe et réduise sa complexité temporelle.\n",
    "\n",
    "#### Exemple :\n",
    "```python\n",
    "sum_of_squares(3)  # 1^2 + 2^2 + 3^2 = 14\n",
    "```\n"
   ]
  },
  {
   "cell_type": "code",
   "execution_count": null,
   "id": "0c7e3e63",
   "metadata": {},
   "outputs": [],
   "source": [
    "# Votre code ici pour Optimiser une solution :\n",
    "def your_function():\n",
    "    pass"
   ]
  },
  {
   "cell_type": "markdown",
   "id": "b5b19a27",
   "metadata": {},
   "source": [
    "\n",
    "## Évaluation et Feedback\n",
    "\n",
    "### Scores :\n",
    "1. Notez vos résultats pour chaque exercice.\n",
    "2. Revenez régulièrement pour refaire les exercices et mesurer vos progrès.\n",
    "\n",
    "### Recommandations :\n",
    "- Si vous avez des difficultés sur des sections spécifiques, concentrez-vous dessus dans vos études.\n",
    "- Complétez vos apprentissages avec des plateformes comme LeetCode ou HackerRank.\n",
    "\n",
    "Bon courage pour la suite de votre apprentissage ! 🚀\n"
   ]
  }
 ],
 "metadata": {
  "kernelspec": {
   "display_name": "Python 3",
   "language": "python",
   "name": "python3"
  },
  "language_info": {
   "codemirror_mode": {
    "name": "ipython",
    "version": 3
   },
   "file_extension": ".py",
   "mimetype": "text/x-python",
   "name": "python",
   "nbconvert_exporter": "python",
   "pygments_lexer": "ipython3",
   "version": "3.12.5"
  }
 },
 "nbformat": 4,
 "nbformat_minor": 5
}
