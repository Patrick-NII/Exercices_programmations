{
 "cells": [
  {
   "cell_type": "markdown",
   "metadata": {
    "vscode": {
     "languageId": "plaintext"
    }
   },
   "source": [
    "A pangram is a sentence that contains every single letter of the alphabet at least once. For example, the sentence \"The quick brown fox jumps over the lazy dog\" is a pangram, because it uses the letters A-Z at least once (case is irrelevant).\n",
    "\n",
    "Given a string, detect whether or not it is a pangram. Return True if it is, False if not. Ignore numbers and punctuation."
   ]
  },
  {
   "cell_type": "code",
   "execution_count": 8,
   "metadata": {},
   "outputs": [
    {
     "data": {
      "text/plain": [
       "False"
      ]
     },
     "execution_count": 8,
     "metadata": {},
     "output_type": "execute_result"
    }
   ],
   "source": [
    "def is_pangram(st):\n",
    "    return len(set(\"\".join(char for char in st.lower() if char.isalpha))) == 26\n",
    "\n",
    "is_pangram(\"The quick brown fox jumps over the lazy dog\")"
   ]
  },
  {
   "cell_type": "markdown",
   "metadata": {},
   "source": [
    "Return the number (count) of vowels in the given string.\n",
    "\n",
    "We will consider a, e, i, o, u as vowels for this Kata (but not y).\n",
    "\n",
    "The input string will only consist of lower case letters and/or spaces."
   ]
  },
  {
   "cell_type": "code",
   "execution_count": null,
   "metadata": {},
   "outputs": [
    {
     "data": {
      "text/plain": [
       "5"
      ]
     },
     "execution_count": 18,
     "metadata": {},
     "output_type": "execute_result"
    }
   ],
   "source": [
    "def get_count(sentence):\n",
    "    vowels = \"aeiou\"\n",
    "    return sum(1 for char in sentence.lower() if char in vowels)\n",
    "\n",
    "get_count(\"abracadabra\")"
   ]
  },
  {
   "cell_type": "markdown",
   "metadata": {},
   "source": [
    "Create a function with two arguments that will return an array of the first n multiples of x.\n",
    "\n",
    "Assume both the given number and the number of times to count will be positive numbers greater than 0.\n",
    "\n",
    "Return the results as an array or list ( depending on language )."
   ]
  },
  {
   "cell_type": "code",
   "execution_count": 40,
   "metadata": {},
   "outputs": [
    {
     "data": {
      "text/plain": [
       "[2, 4, 6, 8, 10]"
      ]
     },
     "execution_count": 40,
     "metadata": {},
     "output_type": "execute_result"
    }
   ],
   "source": [
    "def count_by(x,n):\n",
    "    return[x * i for i in range(1, n + 1)]\n",
    "count_by(2, 5)"
   ]
  },
  {
   "cell_type": "markdown",
   "metadata": {},
   "source": [
    "Given a string of words, you need to find the highest scoring word.\n",
    "\n",
    "Each letter of a word scores points according to its position in the alphabet: a = 1, b = 2, c = 3 etc.\n",
    "\n",
    "For example, the score of abad is 8 (1 + 2 + 1 + 4).\n",
    "\n",
    "You need to return the highest scoring word as a string.\n",
    "\n",
    "If two words score the same, return the word that appears earliest in the original string.\n",
    "\n",
    "All letters will be lowercase and all inputs will be valid."
   ]
  },
  {
   "cell_type": "code",
   "execution_count": 41,
   "metadata": {},
   "outputs": [
    {
     "data": {
      "text/plain": [
       "'Scoring'"
      ]
     },
     "execution_count": 41,
     "metadata": {},
     "output_type": "execute_result"
    }
   ],
   "source": [
    "def high(x):\n",
    "    words = x.split()\n",
    "    scores = [(sum(ord(char) - ord('a') + 1 for char in word), word) for word in words]\n",
    "    return max(scores, key=lambda x: x[0])[1]\n",
    "high(\"Highest Scoring Word\")"
   ]
  }
 ],
 "metadata": {
  "kernelspec": {
   "display_name": "Python 3",
   "language": "python",
   "name": "python3"
  },
  "language_info": {
   "codemirror_mode": {
    "name": "ipython",
    "version": 3
   },
   "file_extension": ".py",
   "mimetype": "text/x-python",
   "name": "python",
   "nbconvert_exporter": "python",
   "pygments_lexer": "ipython3",
   "version": "3.12.5"
  }
 },
 "nbformat": 4,
 "nbformat_minor": 2
}
