{
 "cells": [
  {
   "cell_type": "markdown",
   "id": "f5f72fd8",
   "metadata": {},
   "source": [
    "\n",
    "# Test d'évaluation en Algorithmie\n",
    "\n",
    "Bienvenue dans ce notebook interactif ! Ce test a pour objectif d'évaluer vos compétences en algorithmie \n",
    "et d'identifier vos axes d'amélioration. À la fin du test, vous recevrez un score global ainsi que des \n",
    "recommandations personnalisées.\n",
    "\n",
    "### Consignes :\n",
    "1. Lisez attentivement chaque question.\n",
    "2. Complétez le code dans les cellules prévues à cet effet.\n",
    "3. Une fois terminé, exécutez toutes les cellules pour voir vos résultats.\n",
    "\n",
    "**Bonne chance !**\n"
   ]
  },
  {
   "cell_type": "markdown",
   "id": "a79531bf",
   "metadata": {},
   "source": [
    "\n",
    "## Section 1 : Logique de base\n",
    "\n",
    "Résolvez les exercices suivants en utilisant des boucles, des conditions, et des opérations de base.\n"
   ]
  },
  {
   "cell_type": "markdown",
   "id": "f6d9f4f9",
   "metadata": {},
   "source": [
    "\n",
    "### Exercice 1 : Nombre pair ou impair\n",
    "\n",
    "Écrivez une fonction `is_even` qui prend un entier en entrée et retourne :\n",
    "- `True` si le nombre est pair.\n",
    "- `False` sinon.\n",
    "\n",
    "#### Exemple :\n",
    "```python\n",
    "is_even(4)  # True\n",
    "is_even(7)  # False\n",
    "```\n"
   ]
  },
  {
   "cell_type": "code",
   "execution_count": null,
   "id": "718d2dca",
   "metadata": {},
   "outputs": [],
   "source": [
    "\n",
    "# Votre code ici :\n",
    "def is_even(n):\n",
    "    pass\n",
    "\n",
    "# Testez votre fonction :\n",
    "print(is_even(4))  # Attendu : True\n",
    "print(is_even(7))  # Attendu : False\n"
   ]
  },
  {
   "cell_type": "markdown",
   "id": "05b6daf9",
   "metadata": {},
   "source": [
    "\n",
    "## Section 2 : Manipulation des structures de données\n",
    "\n",
    "Travaillez avec des listes, des dictionnaires, et d'autres structures pour résoudre des problèmes.\n"
   ]
  },
  {
   "cell_type": "markdown",
   "id": "90c06800",
   "metadata": {},
   "source": [
    "\n",
    "### Exercice 2 : Trouver le maximum\n",
    "\n",
    "Écrivez une fonction `find_max` qui prend une liste d'entiers en entrée et retourne le plus grand élément de la liste.\n",
    "\n",
    "#### Exemple :\n",
    "```python\n",
    "find_max([3, 1, 4, 1, 5])  # 5\n",
    "find_max([-10, -5, -3])    # -3\n",
    "```\n"
   ]
  },
  {
   "cell_type": "code",
   "execution_count": null,
   "id": "23afafce",
   "metadata": {},
   "outputs": [],
   "source": [
    "\n",
    "# Votre code ici :\n",
    "def find_max(lst):\n",
    "    pass\n",
    "\n",
    "# Testez votre fonction :\n",
    "print(find_max([3, 1, 4, 1, 5]))  # Attendu : 5\n",
    "print(find_max([-10, -5, -3]))    # Attendu : -3\n"
   ]
  },
  {
   "cell_type": "markdown",
   "id": "3fb920ef",
   "metadata": {},
   "source": [
    "\n",
    "## Section 3 : Récursivité\n",
    "\n",
    "Apprenez à résoudre des problèmes en décomposant une tâche en sous-problèmes plus petits.\n"
   ]
  },
  {
   "cell_type": "markdown",
   "id": "1b452ac1",
   "metadata": {},
   "source": [
    "\n",
    "### Exercice 3 : Factorielle\n",
    "\n",
    "Écrivez une fonction récursive `factorial` qui calcule la factorielle d'un nombre donné.\n",
    "\n",
    "#### Exemple :\n",
    "```python\n",
    "factorial(5)  # 120\n",
    "factorial(0)  # 1\n",
    "```\n"
   ]
  },
  {
   "cell_type": "code",
   "execution_count": null,
   "id": "d5a14623",
   "metadata": {},
   "outputs": [],
   "source": [
    "\n",
    "# Votre code ici :\n",
    "def factorial(n):\n",
    "    pass\n",
    "\n",
    "# Testez votre fonction :\n",
    "print(factorial(5))  # Attendu : 120\n",
    "print(factorial(0))  # Attendu : 1\n"
   ]
  },
  {
   "cell_type": "markdown",
   "id": "1fba72f6",
   "metadata": {},
   "source": [
    "\n",
    "## Section 4 : Analyse de complexité\n",
    "\n",
    "Calculez l'efficacité de vos algorithmes et améliorez-les si nécessaire.\n"
   ]
  },
  {
   "cell_type": "markdown",
   "id": "50984966",
   "metadata": {},
   "source": [
    "\n",
    "### Exercice 4 : Somme des carrés\n",
    "\n",
    "Écrivez une fonction `sum_of_squares` qui calcule la somme des carrés des nombres de 1 à `n`.\n",
    "\n",
    "#### Exemple :\n",
    "```python\n",
    "sum_of_squares(3)  # 1^2 + 2^2 + 3^2 = 14\n",
    "sum_of_squares(5)  # 1^2 + 2^2 + 3^2 + 4^2 + 5^2 = 55\n",
    "```\n",
    "\n",
    "Ensuite, analysez la complexité temporelle de votre solution.\n"
   ]
  },
  {
   "cell_type": "code",
   "execution_count": null,
   "id": "7ec2646e",
   "metadata": {},
   "outputs": [],
   "source": [
    "\n",
    "# Votre code ici :\n",
    "def sum_of_squares(n):\n",
    "    pass\n",
    "\n",
    "# Testez votre fonction :\n",
    "print(sum_of_squares(3))  # Attendu : 14\n",
    "print(sum_of_squares(5))  # Attendu : 55\n",
    "\n",
    "# Question : Quelle est la complexité temporelle de votre fonction ?\n"
   ]
  },
  {
   "cell_type": "markdown",
   "id": "da85b2eb",
   "metadata": {},
   "source": [
    "\n",
    "## Évaluation et Feedback\n",
    "\n",
    "Exécutez toutes les cellules, puis comparez vos résultats avec les attentes. Identifiez vos axes d'amélioration :\n",
    "- Si vous avez des difficultés avec la récursivité, concentrez-vous sur des exercices de décomposition de problèmes.\n",
    "- Si vous avez du mal avec l'analyse de complexité, apprenez la notation Big-O.\n",
    "\n",
    "**Progression** : Notez vos scores et revenez dans 1 mois pour mesurer vos progrès !\n"
   ]
  }
 ],
 "metadata": {},
 "nbformat": 4,
 "nbformat_minor": 5
}
